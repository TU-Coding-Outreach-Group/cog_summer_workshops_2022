{
 "cells": [
  {
   "cell_type": "markdown",
   "id": "d401ed00-adeb-45ac-8307-6dd8da924653",
   "metadata": {},
   "source": [
    "# Coding Outreach Group Summer Workshop 2022 - PsychoPy\n",
    "\n",
    "06/29/2022\n",
    "**Content Creator**: Liz Beard\n",
    "**Content Editor**: Katie Jobson\n",
    "\n",
    "## Description\n",
    "This workshop will cover key components of working with the PsychoPy using the 'coder' IDE. PsychoPy is a free, open-source software package for experimental design. For people without coding experience, [past](https://github.com/TU-Coding-Outreach-Group/cog_summer_workshops_2020/tree/master/psychopy) [workshops](https://github.com/TU-Coding-Outreach-Group/cog_summer_workshops_2021/tree/main/psychopy) from COG have covered how to use the PsychoPy Builder GUI. In this workshop, we will cover various components of designing experimental tasks using the 'coder' IDE with specific emphasis on tools that are useful for neuroimaging experiments.\n",
    "\n",
    "## Prerequisites\n",
    "1. Comfort coding in python.\n",
    "2. Familiarity with experimental design (randomization, trial-based experiments, etc.).\n",
    "\n",
    "## Set Up (before the workshop)\n",
    "1. Install standalone [PsychoPy](https://psychopy.org/download.html) (version 22.1.3 or later).\n",
    "2. Download the 'stim' folder and materials from the TU COG Github. This folder will contain the necessary files for the exercises in today's workshop.\n",
    "3. Download the 'adorable_study.py' script from Github.\n",
    "\n",
    "## Objectives\n",
    "1. Introduce key components of the 'coder' portion of Python.\n",
    "2. Review experimental design tools that are particularly helpful for neuroimaging tasks.\n",
    "\n",
    "## Outline\n",
    "| Topic | Time | Description |\n",
    "| --- | --- | --- |\n",
    "| Intro | Why use the 'coder'? | 5 min |\n",
    "| Tutorial 1 | Basic stimuli presentation | 10 min |\n",
    "| Tutorial 2 | Response collection | 10 min |\n",
    "| Tutorial 3 | Moving pieces | 10 min |\n",
    "| Tutorial 4 | Putting it together | 20 min |\n",
    "| Outro | Example task code review | 5 min |\n",
    "\n",
    "## Intro"
   ]
  },
  {
   "cell_type": "code",
   "execution_count": null,
   "id": "2ca43820-00e9-41b7-9a7f-0b81aa125d89",
   "metadata": {},
   "outputs": [],
   "source": [
    "%%HTML\n",
    "<iframe width=\"560\" height=\"315\" src=\"\"https://www.youtube.com/embed/HTumPOLQBIU\"\" title=\"COG 2022 PsychoPy Workshop Intro\" frameborder=\"0\" allowfullscreen></iframe>"
   ]
  },
  {
   "cell_type": "markdown",
   "id": "03b2f6d2-62db-4eae-b5a4-eb7ef9aad2ae",
   "metadata": {},
   "source": [
    "# Setting up your task script\n",
    "In today's workshop, we'll be taking code from this script and copying it into the `my-task.py` script. Each tutorial builds on the last. By the end of the workshop we'll have a really silly task we could use in our neuroimaging study.\n",
    "\n",
    "## Experiment Deisgn\n",
    "Let's say you are interested in the understanding the impact of adorable kittens on working memory in the brain. To examine this, you might design an experiment with two conditions:\n",
    "1. Adorable\n",
    "2. Control\n",
    "\n",
    "In your experiment, participants would view a series of cute cute kittens before performing a short Stroop task. For the sake of time and clarity today, we're going to assume this is a between-subjects design.\n",
    "\n",
    "## Load in our libraries\n",
    "The very first step we'll need to accomplish in our experiment script is to load in any necessary python libraries we'll be using and set some initial parameters.\n",
    "- *note*: I like to keep any experient-wide parameters (such as how long a stimulus is presented) at the top of my script in case we decide to change them later.\n",
    "\n",
    "I've gone ahead and added the code to load the libraries into our script, and some of our parameters. You'll also notice a few lines of code that include functions which may not be familiar -- We'll talk about that later. **Add in the path to your 'stim' folder.** The code should look something like this:"
   ]
  },
  {
   "cell_type": "code",
   "execution_count": null,
   "id": "524190fb-59cc-4115-8f57-50f33a6a3ea1",
   "metadata": {},
   "outputs": [],
   "source": [
    "from psychopy import data, event, visual, core, gui\n",
    "import os\n",
    "import csv\n",
    "import sys\n",
    "import random\n",
    "\n",
    "event.globalKeys.clear()\n",
    "\n",
    "kitten_display_time = 3\n",
    "stroop_display_time = 2\n",
    "feedback_time = .5\n",
    "fixation_time = 1\n",
    "\n",
    "response_keys = ['1','2']\n",
    "\n",
    "stim_folder = 'PATH/TO/STIM/FOLDER'"
   ]
  },
  {
   "cell_type": "markdown",
   "id": "e3946f36-594c-417d-b42d-505ed191dc10",
   "metadata": {},
   "source": [
    "# Tutorial 1 - Basic Stimuli Presentation\n",
    "## GUI\n",
    "At the start of our experiment, we'll probably want to have our reseach assistant enter in the participant number and any additional study information before the participant starts the task. We can use PsychoPy's `gui` library to collect relevant info via a pop-up dialogue box.\n",
    "\n",
    "First, let's create the dialouge box object."
   ]
  },
  {
   "cell_type": "code",
   "execution_count": null,
   "id": "af103024-b12a-43b8-97f2-7e0d33a37560",
   "metadata": {},
   "outputs": [],
   "source": [
    "myDlg = gui.Dlg()"
   ]
  },
  {
   "cell_type": "markdown",
   "id": "7c631fb1-8ff6-4580-ab21-a6178aaa56e6",
   "metadata": {},
   "source": [
    "Next, we'll add different fields that will be displayed in the dialogue box when we run the experiment. These allow the experimenter to enter information that can be used later."
   ]
  },
  {
   "cell_type": "code",
   "execution_count": null,
   "id": "4613b69d-ab19-4a0a-aff4-e297839c2b8f",
   "metadata": {},
   "outputs": [],
   "source": [
    "myDlg.addText('ADORABLE STUDY')\n",
    "myDlg.addField('Participant Number:')\n",
    "myDlg.addField('Group (A/B): ')\n",
    "myDlg.addField('Fullscreen? (y/n): ')"
   ]
  },
  {
   "cell_type": "markdown",
   "id": "2d645e8b-5288-4215-a1f8-6bf0e5c1f801",
   "metadata": {},
   "source": [
    "Notice that there are two different functions we called here. The `.addText()` function displays text only. `.addField()` function will add a text box for responses to be collected.\n",
    "\n",
    "To display the dialouge box, we call the `.show()` function. After we run our experiment and enter in the relevant study information, the myDlg object has a `.data` dictionary that we can refer to and retrieve the data that was entered in the dialouge box.\n",
    "- *note*: It's important to remember the order of your fields so you can refer to them later. Don't forget that python is a zero-index language!\n",
    "\n",
    "**Add the experimental group variable from the GUI response data. Run your experiment as is so far and see if you can get the GUI to pop up and enter in toy responses!**"
   ]
  },
  {
   "cell_type": "code",
   "execution_count": null,
   "id": "8391117c-ffa5-4134-9e61-29e13f1eaec3",
   "metadata": {},
   "outputs": [],
   "source": [
    "myDlg.show()\n",
    "\n",
    "ppt_number = int(myDlg.data[0])\n",
    "group = #"
   ]
  },
  {
   "cell_type": "markdown",
   "id": "2a70f921-07e0-4bd0-9894-8d80a641136e",
   "metadata": {},
   "source": [
    "In the next part of your script, you'll notice that we set a variable based on whether the experimenter entered 'y' or 'n'. This brings us to our next section, creating windows."
   ]
  },
  {
   "cell_type": "code",
   "execution_count": null,
   "id": "45d1a951-c519-49a4-80aa-ea4a2da0937b",
   "metadata": {},
   "outputs": [],
   "source": [
    "if myDlg.data[2] == 'y':\n",
    "    full_screen = True\n",
    "elif myDlg.data[2] == 'n':\n",
    "    full_screen = False\n",
    "else:\n",
    "    print('Invalid response. Please select [y] or [n].')"
   ]
  },
  {
   "cell_type": "markdown",
   "id": "a4d89402-785d-41ba-b0ff-dea5b77d16fc",
   "metadata": {},
   "source": [
    "## Windows\n",
    "To quote [PsychoPy's own tutorial](https://www.psychopy.org/coder/tutorial1.html): \n",
    "> \"Building stimuli is extremely easy. All you need to do is create a Window, then some stimuli. Draw those stimuli, then update the window.\"\n",
    "\n",
    "To set up a window, we'll first define a window object using the `visual.Window` function. Because PsychoPy was originally developed for vision research there are a lot of parameters that we don't need, but others that do come in handy. You can read more about them in the [API](https://psychopy.org/api/visual/window.html#psychopy.visual.Window)."
   ]
  },
  {
   "cell_type": "code",
   "execution_count": null,
   "id": "574096d7-90c3-4dd2-9675-a8438b638287",
   "metadata": {},
   "outputs": [],
   "source": [
    "win = visual.Window([800,600], monitor='testMonitor', units='deg', fullscr=full_screen, screen = 0)"
   ]
  },
  {
   "cell_type": "markdown",
   "id": "d73b80a3-002c-46c4-9cec-9ce5c7ef1f87",
   "metadata": {},
   "source": [
    "Notice how instead of directly defining the `fullscr` parameter as True or False, I call the `full_screen` variable we deffined earlier. This is extremely helpful when debugging and developing a task so that you can quit the experiment if you need to.\n",
    "\n",
    "Now that we've defined our window, we'll need something to *draw* on it. That something is our stimuli. For this tutorial, let's display the task instructions to our participants. We can define a text stimulis object by using the `visual.TextStim` function. **Create the stimulus for `task_instructions_2`.** If you're curious about what each of the parameters are, I'd recommend referring back to the API."
   ]
  },
  {
   "cell_type": "code",
   "execution_count": null,
   "id": "00bb2250-977e-4527-9a11-09741def3eff",
   "metadata": {},
   "outputs": [],
   "source": [
    "task_instructions_text_1 = 'In this experiment, you will be shown pictures of kittens \\n and then shown color names (red, green, blue) in different \"print\" colors.'\n",
    "task_instructions_text_2 = 'You need to \\n press 1 if the color name matches the \"print\" color \\n press 2 if the name does not match the \"print\" color.'\n",
    "\n",
    "task_instructions_1 = visual.TextStim(win, text=task_instructions_text_1, pos=(0,1), wrapWidth=20, color='white', height=1.2)\n",
    "task_instructions_2 = #"
   ]
  },
  {
   "cell_type": "markdown",
   "id": "752bee36-5b12-46ed-8c38-01ec1ac1d181",
   "metadata": {},
   "source": [
    "Now that we've defined our stimuli we need to *display* it. We do this by first `draw`ing the object to our `Window` an then we `flip` the window to display to the participant. This allows us to edit and place as many different stimuli objects on our window as we like. You can think of the `flip` command as a way of moving a power point forward.\n",
    "\n",
    "But how long do we want to show this window to our participants? There are a number of ways to determine how long a window displays, but in this example we will use the `core.wait()` function that tells the program to wait for a given time period (in seconds).\n",
    "\n",
    "**Draw the second set of task instructions and have them display for 5 seconds. Try running your experiment.**"
   ]
  },
  {
   "cell_type": "code",
   "execution_count": null,
   "id": "3d8d1f8d-3316-45dc-8c15-4c361b5ec1d0",
   "metadata": {},
   "outputs": [],
   "source": [
    "task_instructions_1.draw()\n",
    "win.flip()\n",
    "core.wait(5)\n",
    "\n",
    "#\n",
    "#\n",
    "#"
   ]
  },
  {
   "cell_type": "markdown",
   "id": "d877c997-9576-4f83-a555-186016d87d9f",
   "metadata": {},
   "source": [
    "# Tutorial 2 - Response collection\n",
    "We've already collected some response data via the dialogue box, but the critical part of our experiment is that we collect responses from our participants. We can do this via the `event` library. There are two different ways to collect event responses we'll cover today:\n",
    "1. `event.getKeys()` Returns a list of keys that were pressed.\n",
    "2. `event.waitKeys()` is the same as event.getKeys, but halts everything (including drawing) while awaiting input from keyboard.\n",
    "\n",
    "**Run your experiment now and see what happens. Don't forget display your window NOT in full screen!**"
   ]
  },
  {
   "cell_type": "code",
   "execution_count": null,
   "id": "5e2fdf1a-1d9a-446f-a9ca-ff34401b9a04",
   "metadata": {},
   "outputs": [],
   "source": [
    "wait_for_task = visual.TextStim(win, text='Press space to begin task', pos=(0,1), color='white', height=1.2)\n",
    "\n",
    "wait_for_task.draw()\n",
    "win.flip()\n",
    "event.waitKeys(keyList=['space'])"
   ]
  },
  {
   "cell_type": "markdown",
   "id": "e69bc8dd-d1eb-42fa-922f-4c3f8f485a8e",
   "metadata": {},
   "source": [
    "Your experiment should have closed out at this point after you pressed the space bar of your keyboard. Because we defined our `keyList=['space']`, *only* pressing the space bar would allow the experiment to move forward. Any other button presses would not be recorded. \n",
    "- An important thing to keep in mind when recording events in PsychoPy is that different keyboards (for Macs vs. Windows, for example) have different key names/labels. To determine which key you need to refer to in your `keyList`, run the `keyNameFinder.py` experiment in the Demos>input section of PsychoPy."
   ]
  },
  {
   "cell_type": "markdown",
   "id": "e7e850ed-4491-4435-b74f-186c2c76d038",
   "metadata": {},
   "source": [
    "## Global Keys\n",
    "Global keys are useful for executing a function *while* your script is running.\n",
    "> Global event keys are single keys (or combinations of a single key and one or more “modifier” keys such as Ctrl, Alt, etc.) with an associated Python callback function. This function will be executed if the key (or key/modifiers combination) was pressed.\n",
    "\n",
    "Remember the `event.globalKeys.clear()` function from the beginning of our experiment script? That removed any globalKeys that had been set in our PsychoPy environment before. Let's create a globalKey to quit out of our experiment if we press the \\[x\\] key."
   ]
  },
  {
   "cell_type": "code",
   "execution_count": null,
   "id": "c04e1562-3eff-49db-be10-b192b8e161ae",
   "metadata": {},
   "outputs": [],
   "source": [
    "event.globalKeys.add(key='x', func=core.quit)"
   ]
  },
  {
   "cell_type": "markdown",
   "id": "cff2a738-d674-4d50-b3b9-cbfb151bffcf",
   "metadata": {},
   "source": [
    "By adding this to our script, any time the \\[x\\] key is pressed, the experiment will quit. PsychoPy has a [more detailed tutorial](https://psychopy.org/coder/globalKeys.html) devoted to Global Keys. I recommend trying to write a function that will save any existing data that was recorded before you quit the experiment!\n",
    "\n",
    "So far, we've\n",
    "- collected experiment data from the dialogue box\n",
    "- displayed our task instructions\n",
    "- recorded key presses from our participant\n",
    "\n",
    "But usually we want to display many trials to our participants across multiple conditions. How can we accomplish that?"
   ]
  },
  {
   "cell_type": "markdown",
   "id": "f00e4080-c725-40fd-b533-cc64cb039a34",
   "metadata": {},
   "source": [
    "# Tutorial 3 - Moving Pieces\n",
    "## The Trial Handler\n",
    "The trial handler is the real work horse of our PsychoPy experiment script. It takes our condition or trial list and allows us to call specific information for each one in a streamlined way. Let's look at our trial_info.csv: \n",
    "\n",
    "|name|congruent|\n",
    "|--- | --- |\n",
    "|red|Y|\n",
    "|blue|Y|\n",
    "|green|Y|\n",
    "|red|N|\n",
    "|blue|N|\n",
    "|green|N|\n",
    "\n",
    "There are two different pieces of information that will vary from trial to trial during our stroop task. The \"name\" of the word, and whether the color of the word is congruent with the name of the word. Each line of this csv represents a different condition, or in our case trial, that we want to display to our participant. In the next tutorial, we'll go through what calling information that gets read into the trial handler looks like. But for now let's read our csv into the `TrialHandler` object."
   ]
  },
  {
   "cell_type": "code",
   "execution_count": null,
   "id": "18be6448-38bb-463d-9081-83ef0b468115",
   "metadata": {},
   "outputs": [],
   "source": [
    "trial_data = [r for r in csv.DictReader(open(os.path.join(stim_folder, 'trial_info.csv')))]\n",
    "trials = data.TrialHandler(trial_data, method=\"random\", nReps=1)\n",
    "print(trials)"
   ]
  },
  {
   "cell_type": "markdown",
   "id": "1038e23b-bd84-4c37-bae9-d63d8be18c9b",
   "metadata": {},
   "source": [
    "Notice what information gets returned when we print the TrialHandler object. There is also some experiment level information be may want to attach to our data sheet when we save it later. To do this, we'll add info to the `.extraInfo` attribute. **Try printing the `extraInfo` attribute to see what was added to our trial handler.**"
   ]
  },
  {
   "cell_type": "code",
   "execution_count": null,
   "id": "e2965ab3-250b-4ed6-82ce-6e4b5dbd2f99",
   "metadata": {},
   "outputs": [],
   "source": [
    "trials.extraInfo = {'id': ppt_number, 'group': group}\n",
    "print(#)"
   ]
  },
  {
   "cell_type": "markdown",
   "id": "c146da71-d96d-4ee7-bf12-e84a5d5caabb",
   "metadata": {},
   "source": [
    "## Clocks\n",
    "Another crucial component of any experiment (and neuroimaging experiments especially) is timing. To keep track of time in our experiment script, we'll use the `core.Clock()` function.\n",
    "\n",
    "There are a lot of different ways to think about timing in your experiment, but I generally keep two separate clocks:\n",
    "\n",
    "- a timer for shorter, within trial time management\n",
    "- a 'global clock' for time management across a run/task. THIS CLOCK NEVER GETS RESET THROUGHOUT THE EXPERIMENT SCRIPT. If you have to sync any sort of external timing (from an MRI, from videos, etc.), make sure you have a global clock!\n",
    "\n",
    "**Add the globalClock to your experiment script.**"
   ]
  },
  {
   "cell_type": "code",
   "execution_count": null,
   "id": "65939dc5-f833-4f02-97b6-9c7f824875b2",
   "metadata": {},
   "outputs": [],
   "source": [
    "timer = core.Clock()\n",
    "globalClock = #"
   ]
  },
  {
   "cell_type": "markdown",
   "id": "3628e3f3-ade7-49e7-a935-a4bed55a0070",
   "metadata": {},
   "source": [
    "# Tutorial 4 - Putting it all together\n",
    "Now that we've covered the key components of an experiment script, it's time to put it all together.\n",
    "\n",
    "## Trial Loops\n",
    "The bulk of our experiment is looping through each of our conditions/trials that we set up using the TrialHandler. There are a couple different ways to execute this in our script, but I like to create a function that is the main component of my task that contained this trial loop. This way, I can call that function at the end of the script, or call it multiple times of I want to repeat it (for multiple runs with different trial data, for example).\n",
    "\n",
    "After we create our function, let's first go in and make sure that if the participant is in Group A, they are shown an adorable cat before their stroop task. If the participant is in Group B, they'll just wait an additional 3 seconds."
   ]
  },
  {
   "cell_type": "code",
   "execution_count": null,
   "id": "152d8a3c-ea5c-44e3-b465-989ec3b34127",
   "metadata": {},
   "outputs": [],
   "source": [
    "fixation = visual.TextStim(win, text=\"+\", height=2)\n",
    "word = visual.TextStim(win, height=1.2, alignHoriz='center', alignVert='center')\n",
    "colors = ['red', 'green', 'blue']\n",
    "\n",
    "def adorable_task(trial_info, group):\n",
    "    \n",
    "    if group == 'A':\n",
    "        cat_number = random.choice(['1','2', '3'])\n",
    "        cat = visual.ImageStim(win, image=os.path.join(stim_folder, 'cat{}.png'.format(cat_number)), units='norm')\n",
    "        \n",
    "        cat_size = cat.size\n",
    "        cat_resize = cat_size*.25\n",
    "        \n",
    "        cat.size = cat_resize\n",
    "        \n",
    "        timer.reset()"
   ]
  },
  {
   "cell_type": "markdown",
   "id": "75c4c0ea-d0c3-4f87-9c67-893e300e8912",
   "metadata": {},
   "source": [
    "I've introduced another two functions above:\n",
    "- `visual.ImageStim` to display the photograph of our kitten. I then assigned the `.size` attribute to a different variable to scale the image size 25% smaller.\n",
    "- `timer.reset()` resets our timer clock to zero.\n",
    "\n",
    "This timer is the second way we'll display information on our Window for a given amount of time via a while state. **Add a while statement for our control group that shows a fixation for the same duration as group A.**"
   ]
  },
  {
   "cell_type": "code",
   "execution_count": null,
   "id": "d9fa28ed-6854-4c5b-9a14-1fe961abab97",
   "metadata": {},
   "outputs": [],
   "source": [
    "        while timer.getTime() < kitten_display_time:\n",
    "            cat.draw()\n",
    "            win.flip()\n",
    "    \n",
    "    if group == 'B':\n",
    "        \n",
    "        timer.reset()\n",
    "        \n",
    "        while timer.getTime < kitten_display_time:\n",
    "            fixation.draw()\n",
    "            win.flip()\n",
    "            \n",
    "    globalClock.reset()"
   ]
  },
  {
   "cell_type": "markdown",
   "id": "5cccf09f-51a6-4bea-8480-1262922fd6f2",
   "metadata": {},
   "source": [
    "Notice how I RESET THE GLOBAL CLOCK! That is because we are beginning the part of the experiment that collects participant response data that we may want to sync back to a separate timing construct later. DO NOT RESET YOUR GLOBAL CLOCK INSIDE OF YOUR TRIAL LOOP. Just keep the separate clocks.\n",
    "\n",
    "Now we can create our trial loop. When I want to call a piece of information from our trial handler, I use the key that corresponds to a column name in our condition .csv. For example, `word.setText(trial['name'])` will set the word stimulus text to the name of a given trial. Afterward, depending on whether the trial is congruent or not, we change the color of the word.\n",
    "\n",
    "Perhaps someone is also interested in whether the color in the incongruent condition matches and we want to record that data for each trial. We'll add that to our trialHandler by calling the `.addData()` function."
   ]
  },
  {
   "cell_type": "code",
   "execution_count": null,
   "id": "b3f0207c-c733-47b0-80d1-a7d9e93696a1",
   "metadata": {},
   "outputs": [],
   "source": [
    "    for trial in trials:\n",
    "        \n",
    "        timer.reset()\n",
    "        event.clearEvents()\n",
    "        trials.addData('trial_onset', globalClock.getTime())\n",
    "        \n",
    "        word.setText(trial['name'])\n",
    "        \n",
    "        if trial['congruent'] == 'Y':\n",
    "            color = trial['name']\n",
    "        else:\n",
    "            random.shuffle(colors)\n",
    "            \n",
    "            if colors[0] == trial['name']:\n",
    "                color = colors[1]\n",
    "            else:\n",
    "                color = colors[0]\n",
    "        \n",
    "        word.setColor(color)\n",
    "        trials.addData('text_color', color)"
   ]
  },
  {
   "cell_type": "markdown",
   "id": "6cb6eea9-a791-4218-9595-ee85a9785c6a",
   "metadata": {},
   "source": [
    "Next, we'll use the `event.getKeys()` function to record our participant responses. Because I don't want any miscellaneous keypresses to be recorded, I've set the KeyList to the parameters we defined earlier on in our experiment.\n",
    "\n",
    "I've also included a `break` statement where, if our participant responds, the trial will end after half a second by *breaking* out of our while loop.\n",
    "\n",
    "**Try using the `.addData()` function to record our participants responses. Then add a fixation after using the `timer` object.**"
   ]
  },
  {
   "cell_type": "code",
   "execution_count": null,
   "id": "73c5a720-a42f-426f-9279-df1f3e2e405b",
   "metadata": {},
   "outputs": [],
   "source": [
    "        while timer.getTime() < stroop_display_time:\n",
    "            word.draw()\n",
    "            win.flip()\n",
    "            \n",
    "            response = event.getKeys(keyList=response_keys, timeStamped = globalClock)\n",
    "            \n",
    "            if len(response) > 0:\n",
    "                resp_val = int(response[0][0])\n",
    "                rt_onset = response[0][1]\n",
    "                \n",
    "                core.wait(feedback_time)\n",
    "                break\n",
    "            \n",
    "            else:\n",
    "                resp_val = 'NA'\n",
    "                rt_onset = 'NA'\n",
    "                \n",
    "        trials.addData(#)\n",
    "        trials.addData(#)\n",
    "            \n",
    "        #\n",
    "        \n",
    "        #\n",
    "            #\n",
    "            #"
   ]
  },
  {
   "cell_type": "markdown",
   "id": "f13f4312-dd93-404c-99f4-e12478e62c88",
   "metadata": {},
   "source": [
    "## Saving out our data\n",
    "Now that we've collected all of these participant responses. We need to save our data! We can do that using the `saveAsWideText()` function.\n",
    "-*note*: be sure to save this with a unique name (such as your subjID) so that you don't accidentally overwrite any data"
   ]
  },
  {
   "cell_type": "code",
   "execution_count": null,
   "id": "3534beb5-680a-421b-b11a-971824ec7a0b",
   "metadata": {},
   "outputs": [],
   "source": [
    "    trials.saveAsWideText(fileName=os.path.join(stim_folder, '{}.csv'.format(ppt_number)), delim=',')"
   ]
  },
  {
   "cell_type": "markdown",
   "id": "38edc29d-f800-461e-bd44-39cafffc37bb",
   "metadata": {},
   "source": [
    "## Execute our experiment function\n",
    "Now it's time to execute our experiment function! Go ahead and try running the entire experiemt and check whether the data is saved in our stim folder. After you go through it once, try testing out our globalKey by pressing \\[x\\]."
   ]
  },
  {
   "cell_type": "code",
   "execution_count": null,
   "id": "a2ba7441-7c06-4a2e-9199-b250005fc750",
   "metadata": {},
   "outputs": [],
   "source": [
    "adorable_task(trials, group)"
   ]
  },
  {
   "cell_type": "markdown",
   "id": "4ae92999-eaf6-4ad7-8463-3ae91d1018e3",
   "metadata": {},
   "source": [
    "## Conclusions"
   ]
  },
  {
   "cell_type": "code",
   "execution_count": null,
   "id": "fe834ac6-60e1-4125-a430-ef079519e23e",
   "metadata": {},
   "outputs": [],
   "source": [
    "%%HTML\n",
    "<iframe width=\"560\" height=\"315\" src=\"https://www.youtube.com/embed/xXI90Kq5HoE\" title=\"COG 2022 PsychoPy Workshop Wrap Up\" frameborder=\"0\" allowfullscreen></iframe>"
   ]
  }
 ],
 "metadata": {
  "kernelspec": {
   "display_name": "Python 3 (ipykernel)",
   "language": "python",
   "name": "python3"
  },
  "language_info": {
   "codemirror_mode": {
    "name": "ipython",
    "version": 3
   },
   "file_extension": ".py",
   "mimetype": "text/x-python",
   "name": "python",
   "nbconvert_exporter": "python",
   "pygments_lexer": "ipython3",
   "version": "3.9.7"
  }
 },
 "nbformat": 4,
 "nbformat_minor": 5
}
