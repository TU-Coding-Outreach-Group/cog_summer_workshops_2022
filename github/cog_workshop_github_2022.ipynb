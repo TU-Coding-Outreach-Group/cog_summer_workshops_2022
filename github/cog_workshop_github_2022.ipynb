{
 "cells": [
  {
   "cell_type": "markdown",
   "metadata": {},
   "source": [
    "# Coding Outreach Group Summer Workshop 2022\n",
    "\n",
    "## GitHub Pages\n",
    "\n",
    "06/01/2022\n",
    "\n",
    "Content Creator: Katie Jobson\n",
    "Content Editor: Haroon Popal\n",
    "\n",
    "### Description\n",
    "\n",
    "This workshop aims to cover the basics of GitHub, and will give a tutorial on how to make a webpage with GitHub Pages.\n",
    "\n",
    "### Prerequisites\n",
    "\n",
    "1. Basic knowledge of bash scripting and Markdown\n",
    "2. GitHub account ([link to do this here](https://github.com/))\n",
    "3. GitHub Desktop downloaded ([link to do this here](https://desktop.github.com/))\n",
    "    - if you have a Windows PC, you will need to download [git for Windows](https://gitforwindows.org/)\n",
    "4. A picture of your lab logo (or your animal) to use in an interactive portion of the workshop\n",
    "    \n",
    "### Set Up (before the workshop)\n",
    "\n",
    "1. Make a GitHub account ([link to do this here](https://github.com/))\n",
    "2. For Windows: GitHub Desktop downloaded ([link to do this here](https://desktop.github.com/))\n",
    "    - You will also need to download [git for Windows](https://gitforwindows.org/)\n",
    "3. For Mac: Git Installer downloads ([link to do this here](https://sourceforge.net/projects/git-osx-installer/files/))\n",
    "    - If you have homebrew installed, I highly recommend just typing 'brew install git' into your command line\n",
    "\n",
    "### Workshop Objectives\n",
    "\n",
    "1. Learn some of the basic utilities of GitHub\n",
    "2. Create your own website (like [mine](https://kjobson-neuro.github.io/)) !!"
   ]
  },
  {
   "cell_type": "code",
   "execution_count": 18,
   "metadata": {},
   "outputs": [
    {
     "data": {
      "text/html": [
       "<iframe width=\"560\" height=\"315\" src=\"https://www.youtube.com/embed/KfEdXthSEYA\" title=\"YouTube video player\" frameborder=\"0\" allowfullscreen></iframe>\n"
      ],
      "text/plain": [
       "<IPython.core.display.HTML object>"
      ]
     },
     "metadata": {},
     "output_type": "display_data"
    }
   ],
   "source": [
    "%%HTML\n",
    "<iframe width=\"560\" height=\"315\" src=\"https://www.youtube.com/embed/KfEdXthSEYA\" title=\"YouTube video player\" frameborder=\"0\" allowfullscreen></iframe>"
   ]
  },
  {
   "cell_type": "markdown",
   "metadata": {},
   "source": [
    "## GitHub Basics\n",
    "\n",
    "GitHub is a collaborative platform for individuals who code. The nice thing about GitHub is that you can host many different types of code and script here to share with others! It also makes it easy to upload files in a convient place for both your own work and those that colaborate with you.\n",
    "\n",
    "You can think of GitHub as one big directory hosted online. You are in charge of the directory under the user name you create, while also being able to share directories with labmates or collaborators, and you can contribute to others' directories. Directories (aka repos) can hold data, scripts, and even full programs. \n",
    "\n",
    "The main thing you need to know about GitHub for this workshop is how to copy projects to your local computer, make a change to the directory, and send that change back to the website. Before you start creating your own project, we are going to have you download one of our pages, upload an image of your own, and then upload it back into our project on GitHub."
   ]
  },
  {
   "cell_type": "markdown",
   "metadata": {},
   "source": [
    "### Definitions\n",
    "\n",
    "Some definitions on terms that are used frequently before we get started!\n",
    "\n",
    "**Repository (Repo)**: a project folder on GitHub. You can think of it as the \"main base\" for a project, the folder where everything is stored. All of your changes need to be inside of this folder, and this is the folder that you will send back to GitHub when you have made all of the necessary changes. Can also be referred to as the **remote** once it has been downloaded to your local machine, as remote contains the actual URL from GitHub.\n",
    "\n",
    "**Branch**: this refers to the fact that there can be different versions of one project. The default for your main project branch is literally called _main_. (Please note that the default used to be called master - if you are looking at older documentation and they refer to the master branch, they are just talking about the default branch of your repo). You can make many branches to a project; this can be used to work with experimental changes to your project, creating a new version of your project (or preserving the old one), etc. We will be working in an old branch of my website repository so you all can build your websites from a more basic template.\n",
    "\n",
    "**Fork**: This is an action in which you create a copy of a repository. This is helpful in collaborative settings where you want someone to make changes to your project without directly editing things. They can fork your repository, make the changes that they want, and then you have the option of adding those changes from the fork to your repo. \n",
    "\n",
    "**Clone**: This is the action of copying a repository to your local machine. This also opens an online connection between your computer and GitHub that allows you to check the differences betweem them. \n",
    "\n",
    "**Origin**: This refers to the primary version of your repository. You can have a few different versions of your repo, but you are required to indicate which one is the default. It also refers to the GitHub URL of the repo you are currently working in.\n",
    "\n",
    "**Front Matter**: this is the information at the top of a Markdown file that gives information to GitHub about where it should be in relation to other pages, what the title should be, etc."
   ]
  },
  {
   "cell_type": "markdown",
   "metadata": {},
   "source": [
    "### Download Our Page\n",
    "\n",
    "Open your Git Bash window (by typing 'Git Bash' into your search bar) and open the [COG GitHub](https://github.com/TU-Coding-Outreach-Group/cog_summer_workshops_2022).\n",
    "\n",
    "For this first part, we are going to have you download the entire COG GitHub, upload the image that we asked you guys to bring today (an image of your lab logo or pet will do!), and you will send those changes to be accepted by us.\n",
    "\n",
    "To download the repo, there are a few steps:\n",
    "\n",
    "1. Open the GitHub page and click 'Fork' in the top right of the page\n",
    "<img src=\"images/fork.png\" width=500 height=500 />\n",
    "2. Add the fork to your GitHub\n",
    "<img src=\"images/create_fork.png\" width=500 height=500 />\n",
    "\n",
    "Now, you can type the command below into your terminal (either Git Bash or Terminal). Keep in mind that where ever you are in your home directory, the repo will be downloaded there. So make sure you navigate to somewhere appropriate on your computer. For instance, I downloaded everything into a directory I named 'cog_workshop_github_2022'. "
   ]
  },
  {
   "cell_type": "code",
   "execution_count": null,
   "metadata": {},
   "outputs": [],
   "source": [
    "git clone https://github.com/[your GitHub username]/cog_summer_workshops_2022.git"
   ]
  },
  {
   "cell_type": "markdown",
   "metadata": {},
   "source": [
    "Now navigate into this directory to see the contents of our GitHub on your desktop:"
   ]
  },
  {
   "cell_type": "code",
   "execution_count": null,
   "metadata": {},
   "outputs": [],
   "source": [
    "cd cog_summer_workshops_2022"
   ]
  },
  {
   "cell_type": "markdown",
   "metadata": {},
   "source": [
    "<img src=\"images/git_screenshot1.png\" width=500 height=500 />"
   ]
  },
  {
   "cell_type": "markdown",
   "metadata": {},
   "source": [
    "Note that the name of the branch you are in is in parantheses after the working directory.\n",
    "\n",
    "Now you have this copy of our repo on your desktop. Good GitHub ettiquete in editing other people's repo includes creating your own branch and editing that to make it easier to merge all of your changes. You also need to connect your new fork to the original repo. To do this, you can execute these commands:"
   ]
  },
  {
   "cell_type": "code",
   "execution_count": null,
   "metadata": {},
   "outputs": [],
   "source": [
    "git remote add --track main upstream git@github.com:TU-Coding-Outreach-Group/cog_summer-workshop_2022.git\n",
    "git fetch upstream"
   ]
  },
  {
   "cell_type": "markdown",
   "metadata": {},
   "source": [
    "Now we need to add a branch to work in:"
   ]
  },
  {
   "cell_type": "code",
   "execution_count": null,
   "metadata": {},
   "outputs": [],
   "source": [
    "git checkout branch add_image upstream/main"
   ]
  },
  {
   "cell_type": "markdown",
   "metadata": {},
   "source": [
    "This creates a branch called add_image, yokes it to the main remote repo, and puts you inside of the new branch. Make sure when you are inside of the repo, it shows (add_image) after the working directory in your command line."
   ]
  },
  {
   "cell_type": "markdown",
   "metadata": {},
   "source": [
    "## Participation Time!\n",
    "### Add Your Image!\n",
    "\n",
    "Now that you have a place that you can make changes, you want to add your image into the folder: cog_summer_workshop_2022/github/images/participants\n",
    "\n",
    "Please remmeber that this should be a PNG file. I will change the names later, but don't make them generic as that may conflict if someone else has the same name. You can copy the image over either by command line or even your Finder/File Explorer."
   ]
  },
  {
   "cell_type": "markdown",
   "metadata": {},
   "source": [
    "### How to Make Changes to a Folder\n",
    "\n",
    "Okay, now you have our repo on your desktop, we are going to do a quick tutorial on how to get things from your desktop on to our page.\n",
    "\n",
    "You were asked to bring an image of your lab logo, or just a picture of your animal(s). I want you all to copy that image into the folder _cog_summer_workshops_2022/github/images/participants_\n",
    "\n",
    "The first command you will use is just to check what changes you have made. Remember, there is an online connection between the repo as it is online and what you have on your local desktop. So it can detect changes and discrepancies between what you have and what is online."
   ]
  },
  {
   "cell_type": "code",
   "execution_count": null,
   "metadata": {},
   "outputs": [],
   "source": [
    "git status"
   ]
  },
  {
   "cell_type": "markdown",
   "metadata": {},
   "source": [
    "![Git Status](https://github.com/TU-Coding-Outreach-Group/cog_summer_workshops_2022/tree/main/github/images/git_status.png)\n",
    "\n",
    "This is an image of my own repo with changes I made, so your message will look a little different. But it should highlight in red what changes you have made that differ from the original repo. GitHub has a function where the changes can be made but not immediately committed to the original repo, likely to prevent mistakes and to make sure what you are sending is correct.\n",
    "\n",
    "The first step to adding your changes will be to tell GitHub you want to add them:"
   ]
  },
  {
   "cell_type": "code",
   "execution_count": null,
   "metadata": {},
   "outputs": [],
   "source": [
    "git add ."
   ]
  },
  {
   "cell_type": "markdown",
   "metadata": {},
   "source": [
    "If you want to add every change you made, this period will do that for you. But you can add your changes one folder at a time if you prefer.\n",
    "\n",
    "Then, you need to commit the changes you have added. You have the option of giving a message along with this commit, to let yourself and others know why you made this change:"
   ]
  },
  {
   "cell_type": "code",
   "execution_count": null,
   "metadata": {},
   "outputs": [],
   "source": [
    "git commit -a -m \"add image to participant folder\""
   ]
  },
  {
   "cell_type": "markdown",
   "metadata": {},
   "source": [
    "Now, send us the request to add your change to the COG GitHub:"
   ]
  },
  {
   "cell_type": "code",
   "execution_count": null,
   "metadata": {},
   "outputs": [],
   "source": [
    "git push -u origin add_image"
   ]
  },
  {
   "cell_type": "markdown",
   "metadata": {},
   "source": [
    "## GitHub Pages and Website Templates\n",
    "\n",
    "GitHub now has a wonderful function called GitHub Pages which allows you to use your GitHub as a website. You create a separate repository for your page, and can choose from one of their easy-to-use templates. GitHub pages is hosting using Jeykll, which is a static site generator run through a coding language called [Ruby](https://www.ruby-lang.org/en/). The themes are generally made by groups for free, so some can be very simplistic, and others are complex and can be custmized quite well.\n",
    "\n",
    "Today, we are going to be walking you through the steps on how to create your own page. I will show you some themes, but I am going to be providing you with an easy-to-work-with template that you can edit and customize today during the workshop!"
   ]
  },
  {
   "cell_type": "markdown",
   "metadata": {},
   "source": [
    "### Create Your Own Repo\n",
    "\n",
    "The first thing that we need to do is create a new GitHub pages repository for you. This will be the location of your new website! Unfortunately, you will need to use your GitHub username as the name of the repository - if you make it anything else, GitHub will not be happy. Go to your GitHub (any page of your GitHub should work) and click the plus button in the top right-hand corner."
   ]
  },
  {
   "cell_type": "markdown",
   "metadata": {},
   "source": [
    "<img src=\"images/create_new_repo.png\" width=500 height=500 />"
   ]
  },
  {
   "cell_type": "markdown",
   "metadata": {},
   "source": [
    "This will open a dropdown where you can click 'New repository':"
   ]
  },
  {
   "cell_type": "markdown",
   "metadata": {},
   "source": [
    "<img src=\"images/create_new_repo2.png\" width=500 height=500 />"
   ]
  },
  {
   "cell_type": "markdown",
   "metadata": {},
   "source": [
    "Now you should be in a window where you are being asked to name your repository. Like mentioned before, GitHub Pages requires your website to include your GitHub username with '.github.io' attached at the end. So my GitHub Pages repository is called _kjobson-neuro.github.io_."
   ]
  },
  {
   "cell_type": "markdown",
   "metadata": {},
   "source": [
    "<img src=\"images/githubpages_name.png\" width=500 height=500 />"
   ]
  },
  {
   "cell_type": "markdown",
   "metadata": {},
   "source": [
    "Please note that I am getting a warning because I have already created this page. If you are getting a warning, double check the spelling of your username.\n",
    "\n",
    "You need to leave this page as public to be able to edit it as a GitHub Page. \n",
    "\n",
    "You should also check the box next to 'Add a README file'. This just allows you to have a place to start from, and GitHub pages automatically populates that file with how to use Markdown in GitHub, which could be handy if you don't have much experience with Markdown.\n",
    "\n",
    "Now you can click 'Create Repository' at the bottom!\n",
    "\n",
    "One last thing to intialize your GitHub Page before we move on to adding a theme. You have to select a branch to run it from and save. From your new repo, you can click settings. Then, on the left-hand side of the page, there will be a tab called Pages. Click on that, and you will get a page that will allow you to edit certain things on your webiste, such as the default branch and the theme."
   ]
  },
  {
   "cell_type": "markdown",
   "metadata": {},
   "source": [
    "<img src=\"images/github_pages.png\" width=500 height=500 />"
   ]
  },
  {
   "cell_type": "markdown",
   "metadata": {},
   "source": [
    "Once you have gotten to this tab, you should look under 'Source'. It should ask you where you want your website hosted from - I would recommend doing what I have set, which is to host it from the 'main' branch (the default of GitHub) and /root. Once you have set those, you can click the 'Save' button to initalize your page!"
   ]
  },
  {
   "cell_type": "markdown",
   "metadata": {},
   "source": [
    "<img src=\"images/github_page_source.png\" width=500 height=500 />"
   ]
  },
  {
   "cell_type": "markdown",
   "metadata": {},
   "source": [
    "Something to note about GitHub - I find it difficult to edit and add things via the online website. I think the best way to think about it and use it is from the command line. You can easily manuever through it like a folder on your own dsesktop. So you will need some knowledge of the command line for the rest of this tutorial. "
   ]
  },
  {
   "cell_type": "markdown",
   "metadata": {},
   "source": [
    "### Easy Themes through GitHub\n",
    "\n",
    "So, now you have your page. How do we add a theme to it?\n",
    "\n",
    "The easiest way to do this is to choose one of the pre-made templates from GitHub. From your new repo, you can click settings. Then, on the left-hand side of the page, there will be a tab called Pages. Click on that, and you will get a page that will allow you to edit certain things on your webiste, such as the default branch and the theme. Just to play around a litte, click 'Choose a theme'."
   ]
  },
  {
   "cell_type": "markdown",
   "metadata": {},
   "source": [
    "<img src=\"images/github_pages_theme.png\" width=500 height=500 />"
   ]
  },
  {
   "cell_type": "markdown",
   "metadata": {},
   "source": [
    "These different themes are customizable to your liking. Most involve needing to go to the original GitHub repo of the theme and finding what you can customize. For instance if you go to the [Minimal theme on GitHub](https://github.com/orderedlist/minimal), you will see in the repo that there is a 'stylesheet' folder. In that folder, you can find everything you can change, from font size, to adding images to your page, to background colors. Some themes are more difficult to work with than others.\n",
    "\n",
    "While some of these basic themes might be more your style, we are going to be working with a custom theme. It's called [Just the Docs](https://just-the-docs.github.io/just-the-docs/). I think the thinks we do with this theme should generalize fairly well to any other theme you might choose. "
   ]
  },
  {
   "cell_type": "markdown",
   "metadata": {},
   "source": [
    "### Copy our Website Template\n",
    "\n",
    "First things first. You need to download your GithUb Pages repo on to your local computer so you can make edits. You _can_ edit things on your web browser, but I really do not recommend this. So, clone your repo somewhere easy to find using the command below. It may be easier to go to your Pages repo and copy the web address, \n",
    "\n",
    "<img src=\"images/clone_repo.png\" width=500 height=500 />\n",
    "\n",
    "but this is what the command should look like:"
   ]
  },
  {
   "cell_type": "code",
   "execution_count": null,
   "metadata": {},
   "outputs": [],
   "source": [
    "git clone https://github.com/[your GitHub username]/[name of your Pages repo].io.git"
   ]
  },
  {
   "cell_type": "markdown",
   "metadata": {},
   "source": [
    "MAKE SURE YOU PAY ATTENTION TO WHERE YOU DOWNLOAD YOUR REPOS - they download as their own folders on your desktop, and you should keep different repos **separate**.\n",
    "\n",
    "I have provided a template for your website on the COG Workshop Github repo, under the github folder. Navigate your way inside of the COG repo (which you should have downloaded from earlier in the workshop), and navigate into the github folder:"
   ]
  },
  {
   "cell_type": "code",
   "execution_count": null,
   "metadata": {},
   "outputs": [],
   "source": [
    "cd /your/path/to/cog_summer_workshops_2022\n",
    "\n",
    "cd github"
   ]
  },
  {
   "cell_type": "markdown",
   "metadata": {},
   "source": [
    "Inside, you should see some of the materials for this workshop, but you should also see a folder called 'template'. Inside of this folder is all that you will need to get started building your website. There is a particular directory structure that was implied by the creators of the theme, so I stuck with it. Copy all of the files inside of this folder into the folder of your repo that you just downloaded."
   ]
  },
  {
   "cell_type": "code",
   "execution_count": null,
   "metadata": {},
   "outputs": [],
   "source": [
    "cp template/* /your/path/to/[name of your Pages repo].io/"
   ]
  },
  {
   "cell_type": "markdown",
   "metadata": {},
   "source": [
    "## Create Your Website!\n",
    "\n",
    "### What's in a Website Anyway"
   ]
  },
  {
   "cell_type": "code",
   "execution_count": 17,
   "metadata": {},
   "outputs": [
    {
     "data": {
      "text/html": [
       "<iframe width=\"560\" height=\"315\" src=\"https://www.youtube.com/embed/n6wLnSEchFQ\" title=\"YouTube video player\" frameborder=\"0\" allowfullscreen></iframe>\n"
      ],
      "text/plain": [
       "<IPython.core.display.HTML object>"
      ]
     },
     "metadata": {},
     "output_type": "display_data"
    }
   ],
   "source": [
    "%%HTML\n",
    "<iframe width=\"560\" height=\"315\" src=\"https://www.youtube.com/embed/n6wLnSEchFQ\" title=\"YouTube video player\" frameborder=\"0\" allowfullscreen></iframe>"
   ]
  },
  {
   "cell_type": "markdown",
   "metadata": {},
   "source": [
    "Now that you have yourself a starter template for the webiste, let's talk about how you can edit it and where to find resources.\n",
    "\n",
    "We are using the [Just the Docs](https://github.com/just-the-docs/just-the-docs) theme. I added the line necessary to initlaize the theme for you already.\n",
    "\n",
    "Like I mentioned in the video, you are mainly going to be editing two files (*_config.yml, cog_website.scss and README.md*). The README.md file will be your front page as I mentioned, so that is just your basic introductory stuff, or really whatever you would like your front page to look like. This is done with Markdown as the language, and you can just make edits directly to your README.md file.\n",
    "\n",
    "Every variable you could ever want to add to your config file will be found [here](https://github.com/just-the-docs/just-the-docs/blob/main/_config.yml). All of these will be enacted as the default of your website - if you want to add something different, you will have to call the command listed here and change it in the way that you would like. For instance, you can choose whether links on your website will open a new tab or not, using this line of code:"
   ]
  },
  {
   "cell_type": "code",
   "execution_count": null,
   "metadata": {},
   "outputs": [],
   "source": [
    "aux_links_new_tab: "
   ]
  },
  {
   "cell_type": "markdown",
   "metadata": {},
   "source": [
    "As you can see on the template GitHub, the default is false!\n",
    "\n",
    "<img src=\"images/aux_links.png\" width=500 height=500 />\n",
    "\n",
    "But, if you're like me, you want your website to open a new tab and not send the user to a new one. \n",
    "\n",
    "Navigate into your Pages repository and edit the *_config.yml* file to add:"
   ]
  },
  {
   "cell_type": "code",
   "execution_count": null,
   "metadata": {},
   "outputs": [],
   "source": [
    "aux_links_new_tab: true"
   ]
  },
  {
   "cell_type": "markdown",
   "metadata": {},
   "source": [
    "As far as I am aware, order does not matter, so you can put this at the end of the document. You will notice that there are some lines of code commended out in this file already; ignore them for now, we will get back to this!\n",
    "\n",
    "Now, let's send that change to your GitHub! I want to do this as the process will be slightly different than sending a change to the COG GitHub as you have full permissions on it.\n",
    "\n",
    "Remmeber, check to see what changes need to be added:"
   ]
  },
  {
   "cell_type": "code",
   "execution_count": null,
   "metadata": {},
   "outputs": [],
   "source": [
    "git status"
   ]
  },
  {
   "cell_type": "markdown",
   "metadata": {},
   "source": [
    "Then add them, commit them, and send them off!"
   ]
  },
  {
   "cell_type": "code",
   "execution_count": null,
   "metadata": {},
   "outputs": [],
   "source": [
    "git add _config.yml\n",
    "git commit -a -m \"change aux link default\"\n",
    "git push origin main"
   ]
  },
  {
   "cell_type": "markdown",
   "metadata": {},
   "source": [
    "You'll notice that this is slightly different process. Like I mentioned before, you have full access to your own repo, so you don't need to request permission or set up separate branches. In the last command, you only have to push to 'main' as this is the only branch that should exist on your repo right now.\n",
    "\n",
    "There is one other file that you will need to edit, _/_sass/color_schemes/cog_website.scss_\n",
    "\n",
    "Inside, you will find different aspects of the webpage you can change the color scheme of. These are all preset, much like the config file, if you want to change it you have to override it and add your own scheme. The base website looks like [this page](https://just-the-docs.github.io/just-the-docs/). You can find all possible ways to change the look of the webpage [here](https://github.com/just-the-docs/just-the-docs/blob/main/_sass/support/_variables.scss), which includes the margins, font sizes and styles, etc.\n",
    "\n",
    "You can go [here](https://just-the-docs.github.io/just-the-docs/docs/utilities/color/) and [here](https://www.ditig.com/256-colors-cheat-sheet) for a list of colors and their accompanying code that you will insert into the cog_website.scss file. For an example of how to format the color codes, see the second line of the .scss file I have provided for you - the rest are empty to populate as you wish!"
   ]
  },
  {
   "cell_type": "markdown",
   "metadata": {},
   "source": [
    "### Adding Pages to Pages\n",
    "\n",
    "There are lots of ways to customize your page that are a bit easier to understand by just looking at the documentation, but I wanted to give a short explanation of how to add pages on to your website.\n",
    "\n",
    "Like I mentioned in the video earlier, you will be using a Markdown file to create the page, so you will have to have a little bit of knowledge about how Markdown works as a language. So, the first thing you want to do is create a Markdown file with the name you would like your new page to be called:"
   ]
  },
  {
   "cell_type": "code",
   "execution_count": null,
   "metadata": {},
   "outputs": [],
   "source": [
    "touch docs/Publications.md"
   ]
  },
  {
   "cell_type": "markdown",
   "metadata": {},
   "source": [
    "Now you have to tell GitHub that you want this to be a page featured on the left-hand side of your website. If you aim to have multiple pages, you also need to indicate the order. Edit your Markdown file to include this information **at the top**:"
   ]
  },
  {
   "cell_type": "markdown",
   "metadata": {},
   "source": [
    "---\n",
    "layout: default\n",
    "title: Publications\n",
    "nav_order: 1\n",
    "---"
   ]
  },
  {
   "cell_type": "markdown",
   "metadata": {},
   "source": [
    "Now, if you would like to have your different pages have different layouts, you can do that! You would just have to create another .scss file under sass/color_scheme/ and indicate the name of the file instead of 'deafult'."
   ]
  },
  {
   "cell_type": "markdown",
   "metadata": {},
   "source": [
    "Importantly, if you would like to have a dropdown bar with sub-pages, you do have to change some things. You have to indicate which file is the \"parent\" file, and which is the \"child\" file. You also have to indicate that the parent file \"has children\". For example, if I wanted my 'About Me' page (aka README.md) to be the parent to the 'Publications' page, I would add this to the README.md:"
   ]
  },
  {
   "cell_type": "markdown",
   "metadata": {},
   "source": [
    "---\n",
    "layout: default\n",
    "title: About Me\n",
    "nav_order: 1\n",
    "has_children: true\n",
    "---"
   ]
  },
  {
   "cell_type": "markdown",
   "metadata": {},
   "source": [
    "And I would change the Publications.md file to read:"
   ]
  },
  {
   "cell_type": "markdown",
   "metadata": {},
   "source": [
    "---\n",
    "layout: default\n",
    "title: Publications\n",
    "nav_order: 1\n",
    "parent: About Me\n",
    "---"
   ]
  },
  {
   "cell_type": "markdown",
   "metadata": {},
   "source": [
    "This just lets GitHub Pages know what pages go where, and in what order!"
   ]
  },
  {
   "cell_type": "markdown",
   "metadata": {},
   "source": [
    "### Time to Customize\n",
    "\n",
    "Now, we are going to give you all some free time to begin the customization of your pages. Edit your README.md file to add to the front page of your website using Markdown. Change the style and color scheme of your page, and make decisions on how it will behave. Make sure you push your changes to your GitHub as you go to update your website. \n",
    "\n",
    "While you are looking for ways to customize, the example site of [Just the Docs](https://just-the-docs.github.io/just-the-docs/) has all of the cool ways you can change your site, including adding pages, buttons, links, and more!\n",
    "\n",
    "**Once you have edited your cog_website.scss file as you wish, you will have to tell the website that you want to use this document to display your theme. When you are finished, make sure you edit the config file and remove the '#' before the variable 'theme'.**"
   ]
  },
  {
   "cell_type": "markdown",
   "metadata": {},
   "source": [
    "## Load Your Website\n",
    "\n",
    "Once you have customized your website a little, volunteer to present it to the group!"
   ]
  },
  {
   "cell_type": "code",
   "execution_count": 16,
   "metadata": {},
   "outputs": [
    {
     "data": {
      "text/html": [
       "<iframe width=\"560\" height=\"315\" src=\"https://www.youtube.com/embed/i6EFExiJD2M\" title=\"YouTube video player\" frameborder=\"0\" allowfullscreen></iframe>\n"
      ],
      "text/plain": [
       "<IPython.core.display.HTML object>"
      ]
     },
     "metadata": {},
     "output_type": "display_data"
    }
   ],
   "source": [
    "%%HTML\n",
    "<iframe width=\"560\" height=\"315\" src=\"https://www.youtube.com/embed/i6EFExiJD2M\" title=\"YouTube video player\" frameborder=\"0\" allowfullscreen></iframe>"
   ]
  },
  {
   "cell_type": "code",
   "execution_count": null,
   "metadata": {},
   "outputs": [],
   "source": []
  }
 ],
 "metadata": {
  "kernelspec": {
   "display_name": "Python 3",
   "language": "python",
   "name": "python3"
  },
  "language_info": {
   "codemirror_mode": {
    "name": "ipython",
    "version": 3
   },
   "file_extension": ".py",
   "mimetype": "text/x-python",
   "name": "python",
   "nbconvert_exporter": "python",
   "pygments_lexer": "ipython3",
   "version": "3.7.1"
  }
 },
 "nbformat": 4,
 "nbformat_minor": 4
}
